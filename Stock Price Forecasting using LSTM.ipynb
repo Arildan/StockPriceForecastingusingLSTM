{
  "nbformat": 4,
  "nbformat_minor": 0,
  "metadata": {
    "colab": {
      "name": "MTDL Forecast",
      "provenance": []
    },
    "kernelspec": {
      "name": "python3",
      "display_name": "Python 3"
    },
    "language_info": {
      "name": "python"
    },
    "accelerator": "GPU"
  },
  "cells": [
    {
      "cell_type": "code",
      "metadata": {
        "colab": {
          "base_uri": "https://localhost:8080/"
        },
        "id": "4BZE1w1P05p9",
        "outputId": "82d32517-2c91-430e-d73d-eb077a709176"
      },
      "source": [
        "!pip install yfinance"
      ],
      "execution_count": null,
      "outputs": [
        {
          "output_type": "stream",
          "name": "stdout",
          "text": [
            "Requirement already satisfied: yfinance in /usr/local/lib/python3.7/dist-packages (0.1.64)\n",
            "Requirement already satisfied: pandas>=0.24 in /usr/local/lib/python3.7/dist-packages (from yfinance) (1.1.5)\n",
            "Requirement already satisfied: multitasking>=0.0.7 in /usr/local/lib/python3.7/dist-packages (from yfinance) (0.0.9)\n",
            "Requirement already satisfied: numpy>=1.15 in /usr/local/lib/python3.7/dist-packages (from yfinance) (1.19.5)\n",
            "Requirement already satisfied: lxml>=4.5.1 in /usr/local/lib/python3.7/dist-packages (from yfinance) (4.6.3)\n",
            "Requirement already satisfied: requests>=2.20 in /usr/local/lib/python3.7/dist-packages (from yfinance) (2.23.0)\n",
            "Requirement already satisfied: pytz>=2017.2 in /usr/local/lib/python3.7/dist-packages (from pandas>=0.24->yfinance) (2018.9)\n",
            "Requirement already satisfied: python-dateutil>=2.7.3 in /usr/local/lib/python3.7/dist-packages (from pandas>=0.24->yfinance) (2.8.2)\n",
            "Requirement already satisfied: six>=1.5 in /usr/local/lib/python3.7/dist-packages (from python-dateutil>=2.7.3->pandas>=0.24->yfinance) (1.15.0)\n",
            "Requirement already satisfied: certifi>=2017.4.17 in /usr/local/lib/python3.7/dist-packages (from requests>=2.20->yfinance) (2021.5.30)\n",
            "Requirement already satisfied: urllib3!=1.25.0,!=1.25.1,<1.26,>=1.21.1 in /usr/local/lib/python3.7/dist-packages (from requests>=2.20->yfinance) (1.24.3)\n",
            "Requirement already satisfied: chardet<4,>=3.0.2 in /usr/local/lib/python3.7/dist-packages (from requests>=2.20->yfinance) (3.0.4)\n",
            "Requirement already satisfied: idna<3,>=2.5 in /usr/local/lib/python3.7/dist-packages (from requests>=2.20->yfinance) (2.10)\n"
          ]
        }
      ]
    },
    {
      "cell_type": "code",
      "metadata": {
        "id": "drHCfLVf0-IT"
      },
      "source": [
        "#Import Modules\n",
        "import math\n",
        "import pandas_datareader as web\n",
        "import numpy as np\n",
        "import pandas as pd\n",
        "import yfinance as yf\n",
        "import tensorflow as tf\n",
        "from sklearn.preprocessing import MinMaxScaler\n",
        "from keras.models import Sequential\n",
        "from keras.layers import Dense, LSTM, Dropout\n",
        "import matplotlib.pyplot as plt\n",
        "plt.style.use('fivethirtyeight')"
      ],
      "execution_count": null,
      "outputs": []
    },
    {
      "cell_type": "code",
      "metadata": {
        "id": "-0FMnXbX1AzI"
      },
      "source": [
        "MTDL = yf.Ticker('MTDL.jk')"
      ],
      "execution_count": null,
      "outputs": []
    },
    {
      "cell_type": "code",
      "metadata": {
        "id": "2NogVmDd1DRX"
      },
      "source": [
        "hist = MTDL.history(start='2016-11-1', end='2021-11-1')"
      ],
      "execution_count": null,
      "outputs": []
    },
    {
      "cell_type": "code",
      "metadata": {
        "id": "3Se4Icrh1SyZ"
      },
      "source": [
        "#Kita ambil hanya kolom harga penutupan\n",
        "data = hist.filter(['Close'])"
      ],
      "execution_count": null,
      "outputs": []
    },
    {
      "cell_type": "code",
      "metadata": {
        "id": "5Xg80lnQ1ZXr"
      },
      "source": [
        "#kita ambil hanya nilainya saja\n",
        "dataset = data.values"
      ],
      "execution_count": null,
      "outputs": []
    },
    {
      "cell_type": "code",
      "metadata": {
        "id": "vCzWvSae1aw4"
      },
      "source": [
        "#kita akan memisahkan data training dengan data testing sebanyak 80 : 20\n",
        "training_data_len = math.ceil(len(dataset) * .8)"
      ],
      "execution_count": null,
      "outputs": []
    },
    {
      "cell_type": "code",
      "metadata": {
        "id": "3prY25cM1cGi"
      },
      "source": [
        "#scaling\n",
        "scaler = MinMaxScaler(feature_range=(0,1))\n",
        "scaled_data = scaler.fit_transform(dataset)"
      ],
      "execution_count": null,
      "outputs": []
    },
    {
      "cell_type": "code",
      "metadata": {
        "id": "qRE5AZIN1dXP"
      },
      "source": [
        "train_data = scaled_data[0:training_data_len, :]"
      ],
      "execution_count": null,
      "outputs": []
    },
    {
      "cell_type": "code",
      "metadata": {
        "id": "qwwJkv-31es6"
      },
      "source": [
        "x_train = []\n",
        "y_train = []"
      ],
      "execution_count": null,
      "outputs": []
    },
    {
      "cell_type": "code",
      "metadata": {
        "colab": {
          "base_uri": "https://localhost:8080/"
        },
        "id": "f0dwwv4S1gAJ",
        "outputId": "9c2e42ec-431a-48b6-aa4f-647b1cb19c53"
      },
      "source": [
        "for i in range(60, len(train_data)):\n",
        "  x_train.append(train_data[i-60:i, 0])\n",
        "  y_train.append(train_data[i, 0])\n",
        "  #check for a bunch of x_train and y _train\n",
        "  if i <=60:\n",
        "    print(x_train)\n",
        "    print()\n",
        "    print(y_train)\n",
        "    print()"
      ],
      "execution_count": null,
      "outputs": [
        {
          "output_type": "stream",
          "name": "stdout",
          "text": [
            "[array([0.02682835, 0.02682835, 0.02682835, 0.02682835, 0.02542145,\n",
            "       0.02401456, 0.02401456, 0.02120077, 0.02120077, 0.0141663 ,\n",
            "       0.01838698, 0.02120077, 0.02260766, 0.02120077, 0.02120077,\n",
            "       0.02401456, 0.01979388, 0.01979388, 0.0155732 , 0.01838698,\n",
            "       0.01838698, 0.01698007, 0.01838698, 0.01838698, 0.01838698,\n",
            "       0.0155732 , 0.0155732 , 0.0141663 , 0.0141663 , 0.01275939,\n",
            "       0.0155732 , 0.0155732 , 0.0155732 , 0.0155732 , 0.00994562,\n",
            "       0.00994562, 0.01135253, 0.00994562, 0.00994562, 0.01275939,\n",
            "       0.01275939, 0.01275939, 0.01275939, 0.01135253, 0.00994562,\n",
            "       0.00994562, 0.01275939, 0.01135253, 0.01135253, 0.01135253,\n",
            "       0.00994562, 0.00994562, 0.01135253, 0.00994562, 0.00994562,\n",
            "       0.01275939, 0.00994562, 0.00994562, 0.00994562, 0.00994562])]\n",
            "\n",
            "[0.009945619185420224]\n",
            "\n"
          ]
        }
      ]
    },
    {
      "cell_type": "code",
      "metadata": {
        "id": "EvW6HtBr1hRI"
      },
      "source": [
        "#mengubah data menjadi format numpy array\n",
        "X_train, Y_train = np.array(x_train), np.array(y_train)"
      ],
      "execution_count": null,
      "outputs": []
    },
    {
      "cell_type": "code",
      "metadata": {
        "id": "osC-XCHt1jTr"
      },
      "source": [
        "#mengubah dimensi data train menjadi 3 dimensi karena LSTM butuh data berdimensi 3\n",
        "# [number of samples, number of time steps, and number of features]\n",
        "X_train = np.reshape(X_train, (\n",
        "    X_train.shape[0],\n",
        "    X_train.shape[1],\n",
        "    1\n",
        "))"
      ],
      "execution_count": null,
      "outputs": []
    },
    {
      "cell_type": "code",
      "metadata": {
        "id": "P6HEV2NQ1kj6"
      },
      "source": [
        "model = Sequential()\n",
        "model.add(LSTM(units=50,return_sequences=True,\n",
        "              input_shape=(X_train.shape[1],1)))\n",
        "model.add(Dropout(0.1))\n",
        "model.add(LSTM(units=50,return_sequences=True))\n",
        "model.add(Dropout(0.2))\n",
        "model.add(tf.keras.layers.GRU(units=50))\n",
        "model.add(Dropout(0.2))\n",
        "model.add(Dense(units=1))"
      ],
      "execution_count": null,
      "outputs": []
    },
    {
      "cell_type": "code",
      "metadata": {
        "id": "qeyKUwW51l5A"
      },
      "source": [
        "model.compile(optimizer='adam',loss=tf.keras.losses.mse)"
      ],
      "execution_count": null,
      "outputs": []
    },
    {
      "cell_type": "code",
      "metadata": {
        "colab": {
          "base_uri": "https://localhost:8080/"
        },
        "id": "ecFy7Cfz1neL",
        "outputId": "72d90b5b-dc7f-4631-ba65-73ca2990f52c"
      },
      "source": [
        "model.fit(X_train,Y_train,epochs=20,batch_size=2)"
      ],
      "execution_count": null,
      "outputs": [
        {
          "output_type": "stream",
          "name": "stdout",
          "text": [
            "Epoch 1/20\n",
            "474/474 [==============================] - 29s 43ms/step - loss: 0.0019\n",
            "Epoch 2/20\n",
            "474/474 [==============================] - 20s 43ms/step - loss: 9.4503e-04\n",
            "Epoch 3/20\n",
            "474/474 [==============================] - 20s 43ms/step - loss: 7.1252e-04\n",
            "Epoch 4/20\n",
            "474/474 [==============================] - 20s 43ms/step - loss: 7.7787e-04\n",
            "Epoch 5/20\n",
            "474/474 [==============================] - 20s 43ms/step - loss: 7.5283e-04\n",
            "Epoch 6/20\n",
            "474/474 [==============================] - 20s 42ms/step - loss: 6.2752e-04\n",
            "Epoch 7/20\n",
            "474/474 [==============================] - 20s 42ms/step - loss: 5.5989e-04\n",
            "Epoch 8/20\n",
            "474/474 [==============================] - 20s 42ms/step - loss: 6.5480e-04\n",
            "Epoch 9/20\n",
            "474/474 [==============================] - 20s 43ms/step - loss: 6.1024e-04\n",
            "Epoch 10/20\n",
            "474/474 [==============================] - 20s 43ms/step - loss: 5.6900e-04\n",
            "Epoch 11/20\n",
            "474/474 [==============================] - 20s 43ms/step - loss: 4.8460e-04\n",
            "Epoch 12/20\n",
            "474/474 [==============================] - 20s 43ms/step - loss: 4.1512e-04\n",
            "Epoch 13/20\n",
            "474/474 [==============================] - 20s 43ms/step - loss: 4.5700e-04\n",
            "Epoch 14/20\n",
            "474/474 [==============================] - 20s 43ms/step - loss: 4.5869e-04\n",
            "Epoch 15/20\n",
            "474/474 [==============================] - 20s 43ms/step - loss: 4.7012e-04\n",
            "Epoch 16/20\n",
            "474/474 [==============================] - 20s 43ms/step - loss: 4.2037e-04\n",
            "Epoch 17/20\n",
            "474/474 [==============================] - 20s 43ms/step - loss: 4.5070e-04\n",
            "Epoch 18/20\n",
            "474/474 [==============================] - 20s 43ms/step - loss: 3.4690e-04\n",
            "Epoch 19/20\n",
            "474/474 [==============================] - 20s 43ms/step - loss: 3.9631e-04\n",
            "Epoch 20/20\n",
            "474/474 [==============================] - 20s 43ms/step - loss: 3.6352e-04\n"
          ]
        },
        {
          "output_type": "execute_result",
          "data": {
            "text/plain": [
              "<keras.callbacks.History at 0x7fd2c8b65e90>"
            ]
          },
          "metadata": {},
          "execution_count": 23
        }
      ]
    },
    {
      "cell_type": "code",
      "metadata": {
        "id": "hujh_YTi1poJ"
      },
      "source": [
        "test_data = scaled_data[training_data_len-60:, :]"
      ],
      "execution_count": null,
      "outputs": []
    },
    {
      "cell_type": "code",
      "metadata": {
        "id": "c6rbhx0o1rdZ"
      },
      "source": [
        "x_test = []\n",
        "y_test = dataset[training_data_len:, :] #actual values diambil dari dataset\n",
        "\n",
        "for i in range(60, len(test_data)):\n",
        "  x_test.append(test_data[i-60:i, 0])"
      ],
      "execution_count": null,
      "outputs": []
    },
    {
      "cell_type": "code",
      "metadata": {
        "id": "InhXnKpd1s38"
      },
      "source": [
        "#ubah x_test menjadi numpy array\n",
        "x_test = np.array(x_test)"
      ],
      "execution_count": null,
      "outputs": []
    },
    {
      "cell_type": "code",
      "metadata": {
        "id": "INbR7ScT1uPj"
      },
      "source": [
        "#mengubah x test menjadi 3 dimensi\n",
        "x_test = np.reshape(x_test,\n",
        "                    (x_test.shape[0],\n",
        "                     x_test.shape[1],\n",
        "                     1))"
      ],
      "execution_count": null,
      "outputs": []
    },
    {
      "cell_type": "code",
      "metadata": {
        "id": "jclaOtyo1vzj"
      },
      "source": [
        "predictions = model.predict(x_test)\n",
        "\n",
        "# mengembalikan lagi ke angka awal (tidak di scaling)\n",
        "predictions = scaler.inverse_transform(predictions)"
      ],
      "execution_count": null,
      "outputs": []
    },
    {
      "cell_type": "code",
      "metadata": {
        "colab": {
          "base_uri": "https://localhost:8080/"
        },
        "id": "eIqoOj2n1xg7",
        "outputId": "b713d678-53f1-47d4-d91f-cf2e5910091d"
      },
      "source": [
        "np.any(np.isnan(predictions))"
      ],
      "execution_count": null,
      "outputs": [
        {
          "output_type": "execute_result",
          "data": {
            "text/plain": [
              "False"
            ]
          },
          "metadata": {},
          "execution_count": 29
        }
      ]
    },
    {
      "cell_type": "code",
      "metadata": {
        "colab": {
          "base_uri": "https://localhost:8080/"
        },
        "id": "nssv0HFd1y-f",
        "outputId": "b88a88c3-19a8-4968-ed5d-e85ca699a1d2"
      },
      "source": [
        "np.any(np.isnan(y_test))"
      ],
      "execution_count": null,
      "outputs": [
        {
          "output_type": "execute_result",
          "data": {
            "text/plain": [
              "False"
            ]
          },
          "metadata": {},
          "execution_count": 30
        }
      ]
    },
    {
      "cell_type": "code",
      "metadata": {
        "id": "ZS0vCVtI11Xd"
      },
      "source": [
        "from sklearn.metrics import mean_squared_error as mse\n",
        "\n",
        "rmse = np.sqrt(mse(y_test, predictions))"
      ],
      "execution_count": null,
      "outputs": []
    },
    {
      "cell_type": "code",
      "metadata": {
        "colab": {
          "base_uri": "https://localhost:8080/"
        },
        "id": "hlzU8u6Y122r",
        "outputId": "6100210d-7cfc-4bab-fe9e-3ce90142ab23"
      },
      "source": [
        "print(rmse)"
      ],
      "execution_count": null,
      "outputs": [
        {
          "output_type": "stream",
          "name": "stdout",
          "text": [
            "109.01990327763384\n"
          ]
        }
      ]
    },
    {
      "cell_type": "code",
      "metadata": {
        "colab": {
          "base_uri": "https://localhost:8080/"
        },
        "id": "cI20h7Nb14D_",
        "outputId": "65f2727f-0a37-4b30-d47b-3058f0c961d5"
      },
      "source": [
        "#membuat dataframe\n",
        "train = data[:training_data_len]\n",
        "valid = data[training_data_len:]\n",
        "valid['Predictions'] = predictions"
      ],
      "execution_count": null,
      "outputs": [
        {
          "output_type": "stream",
          "name": "stderr",
          "text": [
            "/usr/local/lib/python3.7/dist-packages/ipykernel_launcher.py:4: SettingWithCopyWarning: \n",
            "A value is trying to be set on a copy of a slice from a DataFrame.\n",
            "Try using .loc[row_indexer,col_indexer] = value instead\n",
            "\n",
            "See the caveats in the documentation: https://pandas.pydata.org/pandas-docs/stable/user_guide/indexing.html#returning-a-view-versus-a-copy\n",
            "  after removing the cwd from sys.path.\n"
          ]
        }
      ]
    },
    {
      "cell_type": "code",
      "metadata": {
        "colab": {
          "base_uri": "https://localhost:8080/",
          "height": 825
        },
        "id": "4IGTooPc15Yb",
        "outputId": "01eed39b-ce46-473a-e968-1ea8f5af6a76"
      },
      "source": [
        "plt.figure(figsize=(16,8))\n",
        "plt.title('Grafik Model Prediksi Harga MTDL', fontsize=25)\n",
        "plt.xlabel('Tanggal',fontsize=18)\n",
        "plt.ylabel('Harga Penutupan (IDR)', fontsize=18)\n",
        "plt.plot(train['Close'])\n",
        "plt.plot(valid[['Close', 'Predictions']])\n",
        "plt.legend(['Train', 'Val', 'Predict'], loc='lower_right')\n",
        "plt.show()"
      ],
      "execution_count": null,
      "outputs": [
        {
          "output_type": "stream",
          "name": "stderr",
          "text": [
            "/usr/local/lib/python3.7/dist-packages/ipykernel_launcher.py:7: MatplotlibDeprecationWarning: Unrecognized location 'lower_right'. Falling back on 'best'; valid locations are\n",
            "\tbest\n",
            "\tupper right\n",
            "\tupper left\n",
            "\tlower left\n",
            "\tlower right\n",
            "\tright\n",
            "\tcenter left\n",
            "\tcenter right\n",
            "\tlower center\n",
            "\tupper center\n",
            "\tcenter\n",
            "This will raise an exception in 3.3.\n",
            "  import sys\n"
          ]
        },
        {
          "output_type": "display_data",
          "data": {
            "image/png": "[encoded data removed]",
            "text/plain": [
              "<Figure size 1152x576 with 1 Axes>"
            ]
          },
          "metadata": {}
        }
      ]
    },
    {
      "cell_type": "code",
      "metadata": {
        "colab": {
          "base_uri": "https://localhost:8080/"
        },
        "id": "D9bPxJRK18EK",
        "outputId": "274af93b-68e3-4016-e8dd-8d111a64691f"
      },
      "source": [
        "x = []\n",
        "y = []\n",
        "\n",
        "for i in range(60, len(scaled_data)):\n",
        "  x.append(scaled_data[i-60:i, 0])\n",
        "  y.append(scaled_data[i, 0])\n",
        "  #check for a bunch of x_train and y _train\n",
        "  if i <=60:\n",
        "    print(x)\n",
        "    print()\n",
        "    print(y)\n",
        "    print()\n",
        "\t\n",
        "#mengubah data menjadi format numpy array\n",
        "x_train, y_train = np.array(x), np.array(y)\n",
        "\n",
        "#mengubah dimensi data train menjadi 3 dimensi karena LSTM butuh data berdimensi 3\n",
        "# [number of samples, number of time steps, and number of features]\n",
        "x_train = np.reshape(x_train, (\n",
        "    x_train.shape[0],\n",
        "    x_train.shape[1],\n",
        "    1\n",
        "))"
      ],
      "execution_count": null,
      "outputs": [
        {
          "output_type": "stream",
          "name": "stdout",
          "text": [
            "[array([0.02682835, 0.02682835, 0.02682835, 0.02682835, 0.02542145,\n",
            "       0.02401456, 0.02401456, 0.02120077, 0.02120077, 0.0141663 ,\n",
            "       0.01838698, 0.02120077, 0.02260766, 0.02120077, 0.02120077,\n",
            "       0.02401456, 0.01979388, 0.01979388, 0.0155732 , 0.01838698,\n",
            "       0.01838698, 0.01698007, 0.01838698, 0.01838698, 0.01838698,\n",
            "       0.0155732 , 0.0155732 , 0.0141663 , 0.0141663 , 0.01275939,\n",
            "       0.0155732 , 0.0155732 , 0.0155732 , 0.0155732 , 0.00994562,\n",
            "       0.00994562, 0.01135253, 0.00994562, 0.00994562, 0.01275939,\n",
            "       0.01275939, 0.01275939, 0.01275939, 0.01135253, 0.00994562,\n",
            "       0.00994562, 0.01275939, 0.01135253, 0.01135253, 0.01135253,\n",
            "       0.00994562, 0.00994562, 0.01135253, 0.00994562, 0.00994562,\n",
            "       0.01275939, 0.00994562, 0.00994562, 0.00994562, 0.00994562])]\n",
            "\n",
            "[0.009945619185420224]\n",
            "\n"
          ]
        }
      ]
    },
    {
      "cell_type": "code",
      "metadata": {
        "id": "D1b-MJgX2lFi"
      },
      "source": [
        "model = Sequential()\n",
        "model.add(LSTM(units=50,return_sequences=True,\n",
        "              input_shape=(x_train.shape[1],1)))\n",
        "model.add(Dropout(0.1))\n",
        "model.add(LSTM(units=50,return_sequences=True))\n",
        "model.add(Dropout(0.1))\n",
        "model.add(LSTM(units=50,return_sequences=True))\n",
        "model.add(Dropout(0.2))\n",
        "model.add(tf.keras.layers.GRU(units=50))\n",
        "model.add(Dropout(0.2))\n",
        "model.add(Dense(units=1))"
      ],
      "execution_count": null,
      "outputs": []
    },
    {
      "cell_type": "code",
      "metadata": {
        "id": "BzXBZTM62tQP"
      },
      "source": [
        "model.compile(optimizer='adam',loss=tf.keras.losses.mse)"
      ],
      "execution_count": null,
      "outputs": []
    },
    {
      "cell_type": "code",
      "metadata": {
        "colab": {
          "base_uri": "https://localhost:8080/"
        },
        "id": "eFFwTwHx2vOB",
        "outputId": "d96aff9f-0969-4e77-e3d8-0848eb4537a1"
      },
      "source": [
        "model.fit(x_train,y_train,epochs=100,batch_size=2)"
      ],
      "execution_count": null,
      "outputs": [
        {
          "output_type": "stream",
          "name": "stdout",
          "text": [
            "Epoch 1/100\n",
            "600/600 [==============================] - 38s 54ms/step - loss: 0.0045\n",
            "Epoch 2/100\n",
            "600/600 [==============================] - 32s 54ms/step - loss: 0.0024\n",
            "Epoch 3/100\n",
            "600/600 [==============================] - 32s 54ms/step - loss: 0.0029\n",
            "Epoch 4/100\n",
            "600/600 [==============================] - 32s 54ms/step - loss: 0.0019\n",
            "Epoch 5/100\n",
            "600/600 [==============================] - 32s 54ms/step - loss: 0.0023\n",
            "Epoch 6/100\n",
            "600/600 [==============================] - 32s 54ms/step - loss: 0.0021\n",
            "Epoch 7/100\n",
            "600/600 [==============================] - 32s 54ms/step - loss: 0.0018\n",
            "Epoch 8/100\n",
            "600/600 [==============================] - 32s 54ms/step - loss: 0.0016\n",
            "Epoch 9/100\n",
            "600/600 [==============================] - 32s 54ms/step - loss: 0.0023\n",
            "Epoch 10/100\n",
            "600/600 [==============================] - 32s 54ms/step - loss: 0.0015\n",
            "Epoch 11/100\n",
            "600/600 [==============================] - 32s 54ms/step - loss: 0.0011\n",
            "Epoch 12/100\n",
            "600/600 [==============================] - 32s 54ms/step - loss: 0.0020\n",
            "Epoch 13/100\n",
            "600/600 [==============================] - 32s 54ms/step - loss: 0.0014\n",
            "Epoch 14/100\n",
            "600/600 [==============================] - 32s 54ms/step - loss: 0.0012\n",
            "Epoch 15/100\n",
            "600/600 [==============================] - 32s 54ms/step - loss: 0.0016\n",
            "Epoch 16/100\n",
            "600/600 [==============================] - 32s 54ms/step - loss: 0.0010\n",
            "Epoch 17/100\n",
            "600/600 [==============================] - 32s 54ms/step - loss: 0.0010\n",
            "Epoch 18/100\n",
            "600/600 [==============================] - 32s 54ms/step - loss: 0.0014\n",
            "Epoch 19/100\n",
            "600/600 [==============================] - 32s 54ms/step - loss: 0.0012\n",
            "Epoch 20/100\n",
            "600/600 [==============================] - 32s 54ms/step - loss: 0.0012\n",
            "Epoch 21/100\n",
            "600/600 [==============================] - 32s 54ms/step - loss: 9.4604e-04\n",
            "Epoch 22/100\n",
            "600/600 [==============================] - 32s 54ms/step - loss: 0.0011\n",
            "Epoch 23/100\n",
            "600/600 [==============================] - 32s 54ms/step - loss: 9.8107e-04\n",
            "Epoch 24/100\n",
            "600/600 [==============================] - 32s 54ms/step - loss: 9.6392e-04\n",
            "Epoch 25/100\n",
            "600/600 [==============================] - 32s 54ms/step - loss: 0.0012\n",
            "Epoch 26/100\n",
            "600/600 [==============================] - 32s 54ms/step - loss: 0.0010\n",
            "Epoch 27/100\n",
            "600/600 [==============================] - 32s 54ms/step - loss: 9.5136e-04\n",
            "Epoch 28/100\n",
            "600/600 [==============================] - 32s 54ms/step - loss: 8.6165e-04\n",
            "Epoch 29/100\n",
            "600/600 [==============================] - 32s 54ms/step - loss: 9.3419e-04\n",
            "Epoch 30/100\n",
            "600/600 [==============================] - 32s 54ms/step - loss: 8.5893e-04\n",
            "Epoch 31/100\n",
            "600/600 [==============================] - 32s 54ms/step - loss: 9.1543e-04\n",
            "Epoch 32/100\n",
            "600/600 [==============================] - 32s 54ms/step - loss: 9.4438e-04\n",
            "Epoch 33/100\n",
            "600/600 [==============================] - 32s 54ms/step - loss: 8.5386e-04\n",
            "Epoch 34/100\n",
            "600/600 [==============================] - 32s 53ms/step - loss: 9.7795e-04\n",
            "Epoch 35/100\n",
            "600/600 [==============================] - 32s 54ms/step - loss: 8.2206e-04\n",
            "Epoch 36/100\n",
            "600/600 [==============================] - 32s 54ms/step - loss: 8.4924e-04\n",
            "Epoch 37/100\n",
            "600/600 [==============================] - 32s 54ms/step - loss: 9.1222e-04\n",
            "Epoch 38/100\n",
            "600/600 [==============================] - 32s 54ms/step - loss: 7.0856e-04\n",
            "Epoch 39/100\n",
            "600/600 [==============================] - 32s 54ms/step - loss: 8.0697e-04\n",
            "Epoch 40/100\n",
            "600/600 [==============================] - 32s 54ms/step - loss: 8.8482e-04\n",
            "Epoch 41/100\n",
            "600/600 [==============================] - 32s 53ms/step - loss: 9.3040e-04\n",
            "Epoch 42/100\n",
            "600/600 [==============================] - 32s 53ms/step - loss: 0.0010\n",
            "Epoch 43/100\n",
            "600/600 [==============================] - 32s 54ms/step - loss: 7.3521e-04\n",
            "Epoch 44/100\n",
            "600/600 [==============================] - 33s 54ms/step - loss: 8.4144e-04\n",
            "Epoch 45/100\n",
            "600/600 [==============================] - 32s 54ms/step - loss: 7.7882e-04\n",
            "Epoch 46/100\n",
            "600/600 [==============================] - 32s 54ms/step - loss: 7.0637e-04\n",
            "Epoch 47/100\n",
            "600/600 [==============================] - 32s 54ms/step - loss: 9.7520e-04\n",
            "Epoch 48/100\n",
            "600/600 [==============================] - 32s 54ms/step - loss: 7.5626e-04\n",
            "Epoch 49/100\n",
            "600/600 [==============================] - 32s 54ms/step - loss: 6.9339e-04\n",
            "Epoch 50/100\n",
            "600/600 [==============================] - 32s 54ms/step - loss: 7.5707e-04\n",
            "Epoch 51/100\n",
            "600/600 [==============================] - 32s 54ms/step - loss: 8.1118e-04\n",
            "Epoch 52/100\n",
            "600/600 [==============================] - 32s 54ms/step - loss: 6.9575e-04\n",
            "Epoch 53/100\n",
            "600/600 [==============================] - 32s 54ms/step - loss: 8.7192e-04\n",
            "Epoch 54/100\n",
            "600/600 [==============================] - 32s 54ms/step - loss: 7.7642e-04\n",
            "Epoch 55/100\n",
            "600/600 [==============================] - 32s 54ms/step - loss: 8.0815e-04\n",
            "Epoch 56/100\n",
            "600/600 [==============================] - 32s 54ms/step - loss: 8.8965e-04\n",
            "Epoch 57/100\n",
            "600/600 [==============================] - 32s 54ms/step - loss: 8.7608e-04\n",
            "Epoch 58/100\n",
            "600/600 [==============================] - 32s 54ms/step - loss: 7.0354e-04\n",
            "Epoch 59/100\n",
            "600/600 [==============================] - 32s 54ms/step - loss: 9.0579e-04\n",
            "Epoch 60/100\n",
            "600/600 [==============================] - 32s 54ms/step - loss: 6.3556e-04\n",
            "Epoch 61/100\n",
            "600/600 [==============================] - 32s 54ms/step - loss: 7.1033e-04\n",
            "Epoch 62/100\n",
            "600/600 [==============================] - 32s 54ms/step - loss: 7.7861e-04\n",
            "Epoch 63/100\n",
            "600/600 [==============================] - 32s 54ms/step - loss: 7.7086e-04\n",
            "Epoch 64/100\n",
            "600/600 [==============================] - 32s 54ms/step - loss: 6.5078e-04\n",
            "Epoch 65/100\n",
            "600/600 [==============================] - 32s 54ms/step - loss: 9.1464e-04\n",
            "Epoch 66/100\n",
            "600/600 [==============================] - 32s 54ms/step - loss: 6.4519e-04\n",
            "Epoch 67/100\n",
            "600/600 [==============================] - 32s 54ms/step - loss: 8.6835e-04\n",
            "Epoch 68/100\n",
            "600/600 [==============================] - 32s 54ms/step - loss: 7.8286e-04\n",
            "Epoch 69/100\n",
            "600/600 [==============================] - 32s 54ms/step - loss: 8.0694e-04\n",
            "Epoch 70/100\n",
            "600/600 [==============================] - 32s 54ms/step - loss: 8.7592e-04\n",
            "Epoch 71/100\n",
            "600/600 [==============================] - 32s 54ms/step - loss: 8.0128e-04\n",
            "Epoch 72/100\n",
            "600/600 [==============================] - 32s 54ms/step - loss: 7.8259e-04\n",
            "Epoch 73/100\n",
            "600/600 [==============================] - 32s 54ms/step - loss: 5.9762e-04\n",
            "Epoch 74/100\n",
            "600/600 [==============================] - 32s 54ms/step - loss: 7.4870e-04\n",
            "Epoch 75/100\n",
            "600/600 [==============================] - 32s 54ms/step - loss: 7.4078e-04\n",
            "Epoch 76/100\n",
            "600/600 [==============================] - 32s 54ms/step - loss: 8.6880e-04\n",
            "Epoch 77/100\n",
            "600/600 [==============================] - 32s 54ms/step - loss: 6.7643e-04\n",
            "Epoch 78/100\n",
            "600/600 [==============================] - 33s 54ms/step - loss: 8.0084e-04\n",
            "Epoch 79/100\n",
            "600/600 [==============================] - 32s 54ms/step - loss: 7.3638e-04\n",
            "Epoch 80/100\n",
            "600/600 [==============================] - 32s 54ms/step - loss: 6.9271e-04\n",
            "Epoch 81/100\n",
            "600/600 [==============================] - 32s 54ms/step - loss: 7.3072e-04\n",
            "Epoch 82/100\n",
            "600/600 [==============================] - 32s 54ms/step - loss: 7.8952e-04\n",
            "Epoch 83/100\n",
            "600/600 [==============================] - 32s 54ms/step - loss: 8.2570e-04\n",
            "Epoch 84/100\n",
            "600/600 [==============================] - 32s 54ms/step - loss: 6.6418e-04\n",
            "Epoch 85/100\n",
            "600/600 [==============================] - 32s 54ms/step - loss: 6.5304e-04\n",
            "Epoch 86/100\n",
            "600/600 [==============================] - 32s 54ms/step - loss: 6.4790e-04\n",
            "Epoch 87/100\n",
            "600/600 [==============================] - 32s 54ms/step - loss: 8.3590e-04\n",
            "Epoch 88/100\n",
            "600/600 [==============================] - 33s 54ms/step - loss: 8.2952e-04\n",
            "Epoch 89/100\n",
            "600/600 [==============================] - 32s 54ms/step - loss: 7.5548e-04\n",
            "Epoch 90/100\n",
            "600/600 [==============================] - 32s 54ms/step - loss: 7.5197e-04\n",
            "Epoch 91/100\n",
            "600/600 [==============================] - 33s 54ms/step - loss: 7.0151e-04\n",
            "Epoch 92/100\n",
            "600/600 [==============================] - 32s 54ms/step - loss: 6.7751e-04\n",
            "Epoch 93/100\n",
            "600/600 [==============================] - 32s 54ms/step - loss: 8.1604e-04\n",
            "Epoch 94/100\n",
            "600/600 [==============================] - 32s 54ms/step - loss: 6.4906e-04\n",
            "Epoch 95/100\n",
            "600/600 [==============================] - 32s 54ms/step - loss: 7.1879e-04\n",
            "Epoch 96/100\n",
            "600/600 [==============================] - 32s 54ms/step - loss: 6.5187e-04\n",
            "Epoch 97/100\n",
            "600/600 [==============================] - 32s 54ms/step - loss: 6.7154e-04\n",
            "Epoch 98/100\n",
            "600/600 [==============================] - 32s 54ms/step - loss: 6.0570e-04\n",
            "Epoch 99/100\n",
            "600/600 [==============================] - 32s 54ms/step - loss: 6.6758e-04\n",
            "Epoch 100/100\n",
            "600/600 [==============================] - 32s 54ms/step - loss: 7.5060e-04\n"
          ]
        },
        {
          "output_type": "execute_result",
          "data": {
            "text/plain": [
              "<keras.callbacks.History at 0x7fd29cc9f890>"
            ]
          },
          "metadata": {},
          "execution_count": 42
        }
      ]
    },
    {
      "cell_type": "code",
      "metadata": {
        "colab": {
          "base_uri": "https://localhost:8080/"
        },
        "id": "DgBkF76N26Kk",
        "outputId": "61929e9d-1e75-4e8c-b605-8929fe8d404b"
      },
      "source": [
        "new_df = data.copy()\n",
        "last_120_days = new_df[-60:].values\n",
        "last_120_days_scaled = scaler.transform(last_120_days)\n",
        "x_test = []\n",
        "x_test.append(last_120_days_scaled)\n",
        "x_test = np.array(x_test)\n",
        "x_test = np.reshape(x_test,\n",
        "                    (x_test.shape[0],\n",
        "                    x_test.shape[1], 1))\n",
        "pred_price = model.predict(x_test)\n",
        "pred_price_real = scaler.inverse_transform(pred_price)\n",
        "print(pred_price_real)"
      ],
      "execution_count": null,
      "outputs": [
        {
          "output_type": "stream",
          "name": "stdout",
          "text": [
            "[[3570.6602]]\n"
          ]
        }
      ]
    },
    {
      "cell_type": "code",
      "metadata": {
        "colab": {
          "base_uri": "https://localhost:8080/"
        },
        "id": "oBEEg3AK52R9",
        "outputId": "1224436a-6a6c-4799-8ca4-b7c68c695d1e"
      },
      "source": [
        "values = new_df.values\n",
        "forecast = []\n",
        "nilai = list(scaler.transform(values))\n",
        "\n",
        "for i in range(14):\n",
        "  row = np.array(nilai[-60:])\n",
        "  row = np.reshape(row, (row.shape[0], row.shape[1], 1))\n",
        "  pred_price = model.predict(row)\n",
        "  nilai.append(pred_price[0])\n",
        "  forecast.append(scaler.inverse_transform(pred_price)[0])\n",
        "  # print(scaler.inverse_transform(pred_price))\n",
        "print('Selesai')\n"
      ],
      "execution_count": null,
      "outputs": [
        {
          "output_type": "stream",
          "name": "stdout",
          "text": [
            "WARNING:tensorflow:Model was constructed with shape (None, 60, 1) for input KerasTensor(type_spec=TensorSpec(shape=(None, 60, 1), dtype=tf.float32, name='lstm_5_input'), name='lstm_5_input', description=\"created by layer 'lstm_5_input'\"), but it was called on an input with incompatible shape (None, 1, 1).\n",
            "Selesai\n"
          ]
        }
      ]
    },
    {
      "cell_type": "code",
      "metadata": {
        "id": "YZuXyc8C571v"
      },
      "source": [
        "hasil_forecast = []\n",
        "\n",
        "for i in range(14):\n",
        "  hasil_forecast.append(forecast[i][0])"
      ],
      "execution_count": null,
      "outputs": []
    },
    {
      "cell_type": "code",
      "metadata": {
        "id": "4PfGMYb15_jn"
      },
      "source": [
        "rng = pd.date_range('2021-11-1', periods=14, freq='B')\n",
        "fc = pd.DataFrame({'date': rng, 'forecast':hasil_forecast})"
      ],
      "execution_count": null,
      "outputs": []
    },
    {
      "cell_type": "code",
      "metadata": {
        "id": "kiYUQcVb6DPH"
      },
      "source": [
        "fc = fc.set_index('date')"
      ],
      "execution_count": null,
      "outputs": []
    },
    {
      "cell_type": "code",
      "metadata": {
        "id": "f6zSMUlz6E_n",
        "colab": {
          "base_uri": "https://localhost:8080/",
          "height": 391
        },
        "outputId": "591f9e00-078b-4647-c62b-fa5893f9307d"
      },
      "source": [
        "plt.figure(figsize=(20,6))\n",
        "plt.title('Forecast Patern MTDL for Next 14 Days')\n",
        "plt.plot(fc, label = 'forecast', c='orange')\n",
        "plt.legend()"
      ],
      "execution_count": null,
      "outputs": [
        {
          "output_type": "execute_result",
          "data": {
            "text/plain": [
              "<matplotlib.legend.Legend at 0x7fd29c4d2e90>"
            ]
          },
          "metadata": {},
          "execution_count": 48
        },
        {
          "output_type": "display_data",
          "data": {
            "image/png": "[encoded data removed]",
            "text/plain": [
              "<Figure size 1440x432 with 1 Axes>"
            ]
          },
          "metadata": {}
        }
      ]
    },
    {
      "cell_type": "code",
      "metadata": {
        "id": "cIEjIZa36G52",
        "colab": {
          "base_uri": "https://localhost:8080/",
          "height": 519
        },
        "outputId": "2bc16ebd-5707-4559-da00-4bdb34daf2d8"
      },
      "source": [
        "fc"
      ],
      "execution_count": null,
      "outputs": [
        {
          "output_type": "execute_result",
          "data": {
            "text/html": [
              "<div>\n",
              "<style scoped>\n",
              "    .dataframe tbody tr th:only-of-type {\n",
              "        vertical-align: middle;\n",
              "    }\n",
              "\n",
              "    .dataframe tbody tr th {\n",
              "        vertical-align: top;\n",
              "    }\n",
              "\n",
              "    .dataframe thead th {\n",
              "        text-align: right;\n",
              "    }\n",
              "</style>\n",
              "<table border=\"1\" class=\"dataframe\">\n",
              "  <thead>\n",
              "    <tr style=\"text-align: right;\">\n",
              "      <th></th>\n",
              "      <th>forecast</th>\n",
              "    </tr>\n",
              "    <tr>\n",
              "      <th>date</th>\n",
              "      <th></th>\n",
              "    </tr>\n",
              "  </thead>\n",
              "  <tbody>\n",
              "    <tr>\n",
              "      <th>2021-11-01</th>\n",
              "      <td>1888.842407</td>\n",
              "    </tr>\n",
              "    <tr>\n",
              "      <th>2021-11-02</th>\n",
              "      <td>1886.560913</td>\n",
              "    </tr>\n",
              "    <tr>\n",
              "      <th>2021-11-03</th>\n",
              "      <td>1884.242432</td>\n",
              "    </tr>\n",
              "    <tr>\n",
              "      <th>2021-11-04</th>\n",
              "      <td>1874.584595</td>\n",
              "    </tr>\n",
              "    <tr>\n",
              "      <th>2021-11-05</th>\n",
              "      <td>1847.586060</td>\n",
              "    </tr>\n",
              "    <tr>\n",
              "      <th>2021-11-08</th>\n",
              "      <td>1881.885986</td>\n",
              "    </tr>\n",
              "    <tr>\n",
              "      <th>2021-11-09</th>\n",
              "      <td>1866.924927</td>\n",
              "    </tr>\n",
              "    <tr>\n",
              "      <th>2021-11-10</th>\n",
              "      <td>1841.666382</td>\n",
              "    </tr>\n",
              "    <tr>\n",
              "      <th>2021-11-11</th>\n",
              "      <td>1798.583496</td>\n",
              "    </tr>\n",
              "    <tr>\n",
              "      <th>2021-11-12</th>\n",
              "      <td>1783.630615</td>\n",
              "    </tr>\n",
              "    <tr>\n",
              "      <th>2021-11-15</th>\n",
              "      <td>1802.193115</td>\n",
              "    </tr>\n",
              "    <tr>\n",
              "      <th>2021-11-16</th>\n",
              "      <td>1850.478882</td>\n",
              "    </tr>\n",
              "    <tr>\n",
              "      <th>2021-11-17</th>\n",
              "      <td>1856.132324</td>\n",
              "    </tr>\n",
              "    <tr>\n",
              "      <th>2021-11-18</th>\n",
              "      <td>1858.894287</td>\n",
              "    </tr>\n",
              "  </tbody>\n",
              "</table>\n",
              "</div>"
            ],
            "text/plain": [
              "               forecast\n",
              "date                   \n",
              "2021-11-01  1888.842407\n",
              "2021-11-02  1886.560913\n",
              "2021-11-03  1884.242432\n",
              "2021-11-04  1874.584595\n",
              "2021-11-05  1847.586060\n",
              "2021-11-08  1881.885986\n",
              "2021-11-09  1866.924927\n",
              "2021-11-10  1841.666382\n",
              "2021-11-11  1798.583496\n",
              "2021-11-12  1783.630615\n",
              "2021-11-15  1802.193115\n",
              "2021-11-16  1850.478882\n",
              "2021-11-17  1856.132324\n",
              "2021-11-18  1858.894287"
            ]
          },
          "metadata": {},
          "execution_count": 49
        }
      ]
    },
    {
      "cell_type": "code",
      "metadata": {
        "id": "0BIHez-js0iX"
      },
      "source": [
        ""
      ],
      "execution_count": null,
      "outputs": []
    }
  ]
}